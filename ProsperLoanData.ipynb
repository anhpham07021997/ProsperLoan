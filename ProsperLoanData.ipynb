{
 "cells": [
  {
   "cell_type": "markdown",
   "metadata": {},
   "source": [
    "# Loan \n",
    "\n",
    "## by (Pham Minh Nhat Anh )\n",
    "\n",
    "## Preliminary Wrangling\n",
    "\n",
    "> Briefly introduce your dataset here."
   ]
  },
  {
   "cell_type": "markdown",
   "metadata": {},
   "source": [
    "# Questions \n",
    "##### 1)What factors affect a loan’s outcome status?\n",
    "\n",
    "\n",
    "##### 2)What affects the borrower’s APR or interest rate?\n",
    "\n",
    "\n",
    "##### 3)Are there differences between loans depending on how large the original loan amount was?"
   ]
  },
  {
   "cell_type": "markdown",
   "metadata": {},
   "source": [
    "### What is the structure of your dataset?\n",
    "\n",
    "There are total of 113937 loans entries saved in the dataset and 81 attributes. Each loan contain information on the borrowered's background information and details regarding the loans\n",
    "### What is/are the main feature(s) of interest in your dataset?\n",
    "The Borrower's APR will be analyzied with many factors such as the borrower's rating, score, occupation and income that could influence change in borrower's APR.\n",
    "\n",
    "### What features in the dataset do you think will help support your investigation into your feature(s) of interest?\n",
    "\n",
    "The Prosper Rating and score could show low Borrower's APR because higher rating reflect the borrower's personality to be more trustworthy. Creditscore could also have similar effect on Borrower's APR as Prosper Rating."
   ]
  },
  {
   "cell_type": "code",
   "execution_count": 1,
   "metadata": {},
   "outputs": [],
   "source": [
    "import pandas as pd\n",
    "import matplotlib.pyplot as plt\n",
    "import seaborn as sb\n",
    "import numpy as np\n",
    "%matplotlib inline"
   ]
  },
  {
   "cell_type": "code",
   "execution_count": 2,
   "metadata": {
    "scrolled": false
   },
   "outputs": [
    {
     "data": {
      "text/html": [
       "<div>\n",
       "<style scoped>\n",
       "    .dataframe tbody tr th:only-of-type {\n",
       "        vertical-align: middle;\n",
       "    }\n",
       "\n",
       "    .dataframe tbody tr th {\n",
       "        vertical-align: top;\n",
       "    }\n",
       "\n",
       "    .dataframe thead th {\n",
       "        text-align: right;\n",
       "    }\n",
       "</style>\n",
       "<table border=\"1\" class=\"dataframe\">\n",
       "  <thead>\n",
       "    <tr style=\"text-align: right;\">\n",
       "      <th></th>\n",
       "      <th>ListingKey</th>\n",
       "      <th>ListingNumber</th>\n",
       "      <th>ListingCreationDate</th>\n",
       "      <th>CreditGrade</th>\n",
       "      <th>Term</th>\n",
       "      <th>LoanStatus</th>\n",
       "      <th>ClosedDate</th>\n",
       "      <th>BorrowerAPR</th>\n",
       "      <th>BorrowerRate</th>\n",
       "      <th>LenderYield</th>\n",
       "      <th>...</th>\n",
       "      <th>LP_ServiceFees</th>\n",
       "      <th>LP_CollectionFees</th>\n",
       "      <th>LP_GrossPrincipalLoss</th>\n",
       "      <th>LP_NetPrincipalLoss</th>\n",
       "      <th>LP_NonPrincipalRecoverypayments</th>\n",
       "      <th>PercentFunded</th>\n",
       "      <th>Recommendations</th>\n",
       "      <th>InvestmentFromFriendsCount</th>\n",
       "      <th>InvestmentFromFriendsAmount</th>\n",
       "      <th>Investors</th>\n",
       "    </tr>\n",
       "  </thead>\n",
       "  <tbody>\n",
       "    <tr>\n",
       "      <th>0</th>\n",
       "      <td>1021339766868145413AB3B</td>\n",
       "      <td>193129</td>\n",
       "      <td>2007-08-26 19:09:29.263000000</td>\n",
       "      <td>C</td>\n",
       "      <td>36</td>\n",
       "      <td>Completed</td>\n",
       "      <td>2009-08-14 00:00:00</td>\n",
       "      <td>0.16516</td>\n",
       "      <td>0.1580</td>\n",
       "      <td>0.1380</td>\n",
       "      <td>...</td>\n",
       "      <td>-133.18</td>\n",
       "      <td>0.0</td>\n",
       "      <td>0.0</td>\n",
       "      <td>0.0</td>\n",
       "      <td>0.0</td>\n",
       "      <td>1.0</td>\n",
       "      <td>0</td>\n",
       "      <td>0</td>\n",
       "      <td>0.0</td>\n",
       "      <td>258</td>\n",
       "    </tr>\n",
       "    <tr>\n",
       "      <th>1</th>\n",
       "      <td>10273602499503308B223C1</td>\n",
       "      <td>1209647</td>\n",
       "      <td>2014-02-27 08:28:07.900000000</td>\n",
       "      <td>NaN</td>\n",
       "      <td>36</td>\n",
       "      <td>Current</td>\n",
       "      <td>NaN</td>\n",
       "      <td>0.12016</td>\n",
       "      <td>0.0920</td>\n",
       "      <td>0.0820</td>\n",
       "      <td>...</td>\n",
       "      <td>0.00</td>\n",
       "      <td>0.0</td>\n",
       "      <td>0.0</td>\n",
       "      <td>0.0</td>\n",
       "      <td>0.0</td>\n",
       "      <td>1.0</td>\n",
       "      <td>0</td>\n",
       "      <td>0</td>\n",
       "      <td>0.0</td>\n",
       "      <td>1</td>\n",
       "    </tr>\n",
       "    <tr>\n",
       "      <th>2</th>\n",
       "      <td>0EE9337825851032864889A</td>\n",
       "      <td>81716</td>\n",
       "      <td>2007-01-05 15:00:47.090000000</td>\n",
       "      <td>HR</td>\n",
       "      <td>36</td>\n",
       "      <td>Completed</td>\n",
       "      <td>2009-12-17 00:00:00</td>\n",
       "      <td>0.28269</td>\n",
       "      <td>0.2750</td>\n",
       "      <td>0.2400</td>\n",
       "      <td>...</td>\n",
       "      <td>-24.20</td>\n",
       "      <td>0.0</td>\n",
       "      <td>0.0</td>\n",
       "      <td>0.0</td>\n",
       "      <td>0.0</td>\n",
       "      <td>1.0</td>\n",
       "      <td>0</td>\n",
       "      <td>0</td>\n",
       "      <td>0.0</td>\n",
       "      <td>41</td>\n",
       "    </tr>\n",
       "    <tr>\n",
       "      <th>3</th>\n",
       "      <td>0EF5356002482715299901A</td>\n",
       "      <td>658116</td>\n",
       "      <td>2012-10-22 11:02:35.010000000</td>\n",
       "      <td>NaN</td>\n",
       "      <td>36</td>\n",
       "      <td>Current</td>\n",
       "      <td>NaN</td>\n",
       "      <td>0.12528</td>\n",
       "      <td>0.0974</td>\n",
       "      <td>0.0874</td>\n",
       "      <td>...</td>\n",
       "      <td>-108.01</td>\n",
       "      <td>0.0</td>\n",
       "      <td>0.0</td>\n",
       "      <td>0.0</td>\n",
       "      <td>0.0</td>\n",
       "      <td>1.0</td>\n",
       "      <td>0</td>\n",
       "      <td>0</td>\n",
       "      <td>0.0</td>\n",
       "      <td>158</td>\n",
       "    </tr>\n",
       "    <tr>\n",
       "      <th>4</th>\n",
       "      <td>0F023589499656230C5E3E2</td>\n",
       "      <td>909464</td>\n",
       "      <td>2013-09-14 18:38:39.097000000</td>\n",
       "      <td>NaN</td>\n",
       "      <td>36</td>\n",
       "      <td>Current</td>\n",
       "      <td>NaN</td>\n",
       "      <td>0.24614</td>\n",
       "      <td>0.2085</td>\n",
       "      <td>0.1985</td>\n",
       "      <td>...</td>\n",
       "      <td>-60.27</td>\n",
       "      <td>0.0</td>\n",
       "      <td>0.0</td>\n",
       "      <td>0.0</td>\n",
       "      <td>0.0</td>\n",
       "      <td>1.0</td>\n",
       "      <td>0</td>\n",
       "      <td>0</td>\n",
       "      <td>0.0</td>\n",
       "      <td>20</td>\n",
       "    </tr>\n",
       "  </tbody>\n",
       "</table>\n",
       "<p>5 rows × 81 columns</p>\n",
       "</div>"
      ],
      "text/plain": [
       "                ListingKey  ListingNumber            ListingCreationDate  \\\n",
       "0  1021339766868145413AB3B         193129  2007-08-26 19:09:29.263000000   \n",
       "1  10273602499503308B223C1        1209647  2014-02-27 08:28:07.900000000   \n",
       "2  0EE9337825851032864889A          81716  2007-01-05 15:00:47.090000000   \n",
       "3  0EF5356002482715299901A         658116  2012-10-22 11:02:35.010000000   \n",
       "4  0F023589499656230C5E3E2         909464  2013-09-14 18:38:39.097000000   \n",
       "\n",
       "  CreditGrade  Term LoanStatus           ClosedDate  BorrowerAPR  \\\n",
       "0           C    36  Completed  2009-08-14 00:00:00      0.16516   \n",
       "1         NaN    36    Current                  NaN      0.12016   \n",
       "2          HR    36  Completed  2009-12-17 00:00:00      0.28269   \n",
       "3         NaN    36    Current                  NaN      0.12528   \n",
       "4         NaN    36    Current                  NaN      0.24614   \n",
       "\n",
       "   BorrowerRate  LenderYield  ...  LP_ServiceFees  LP_CollectionFees  \\\n",
       "0        0.1580       0.1380  ...         -133.18                0.0   \n",
       "1        0.0920       0.0820  ...            0.00                0.0   \n",
       "2        0.2750       0.2400  ...          -24.20                0.0   \n",
       "3        0.0974       0.0874  ...         -108.01                0.0   \n",
       "4        0.2085       0.1985  ...          -60.27                0.0   \n",
       "\n",
       "   LP_GrossPrincipalLoss  LP_NetPrincipalLoss LP_NonPrincipalRecoverypayments  \\\n",
       "0                    0.0                  0.0                             0.0   \n",
       "1                    0.0                  0.0                             0.0   \n",
       "2                    0.0                  0.0                             0.0   \n",
       "3                    0.0                  0.0                             0.0   \n",
       "4                    0.0                  0.0                             0.0   \n",
       "\n",
       "   PercentFunded  Recommendations InvestmentFromFriendsCount  \\\n",
       "0            1.0                0                          0   \n",
       "1            1.0                0                          0   \n",
       "2            1.0                0                          0   \n",
       "3            1.0                0                          0   \n",
       "4            1.0                0                          0   \n",
       "\n",
       "  InvestmentFromFriendsAmount Investors  \n",
       "0                         0.0       258  \n",
       "1                         0.0         1  \n",
       "2                         0.0        41  \n",
       "3                         0.0       158  \n",
       "4                         0.0        20  \n",
       "\n",
       "[5 rows x 81 columns]"
      ]
     },
     "execution_count": 2,
     "metadata": {},
     "output_type": "execute_result"
    }
   ],
   "source": [
    "df=pd.read_csv(\"loan.csv\")\n",
    "df.head()"
   ]
  },
  {
   "cell_type": "code",
   "execution_count": 3,
   "metadata": {
    "scrolled": true
   },
   "outputs": [
    {
     "name": "stdout",
     "output_type": "stream",
     "text": [
      "<class 'pandas.core.frame.DataFrame'>\n",
      "RangeIndex: 113937 entries, 0 to 113936\n",
      "Data columns (total 81 columns):\n",
      "ListingKey                             113937 non-null object\n",
      "ListingNumber                          113937 non-null int64\n",
      "ListingCreationDate                    113937 non-null object\n",
      "CreditGrade                            28953 non-null object\n",
      "Term                                   113937 non-null int64\n",
      "LoanStatus                             113937 non-null object\n",
      "ClosedDate                             55089 non-null object\n",
      "BorrowerAPR                            113912 non-null float64\n",
      "BorrowerRate                           113937 non-null float64\n",
      "LenderYield                            113937 non-null float64\n",
      "EstimatedEffectiveYield                84853 non-null float64\n",
      "EstimatedLoss                          84853 non-null float64\n",
      "EstimatedReturn                        84853 non-null float64\n",
      "ProsperRating (numeric)                84853 non-null float64\n",
      "ProsperRating (Alpha)                  84853 non-null object\n",
      "ProsperScore                           84853 non-null float64\n",
      "ListingCategory (numeric)              113937 non-null int64\n",
      "BorrowerState                          108422 non-null object\n",
      "Occupation                             110349 non-null object\n",
      "EmploymentStatus                       111682 non-null object\n",
      "EmploymentStatusDuration               106312 non-null float64\n",
      "IsBorrowerHomeowner                    113937 non-null bool\n",
      "CurrentlyInGroup                       113937 non-null bool\n",
      "GroupKey                               13341 non-null object\n",
      "DateCreditPulled                       113937 non-null object\n",
      "CreditScoreRangeLower                  113346 non-null float64\n",
      "CreditScoreRangeUpper                  113346 non-null float64\n",
      "FirstRecordedCreditLine                113240 non-null object\n",
      "CurrentCreditLines                     106333 non-null float64\n",
      "OpenCreditLines                        106333 non-null float64\n",
      "TotalCreditLinespast7years             113240 non-null float64\n",
      "OpenRevolvingAccounts                  113937 non-null int64\n",
      "OpenRevolvingMonthlyPayment            113937 non-null float64\n",
      "InquiriesLast6Months                   113240 non-null float64\n",
      "TotalInquiries                         112778 non-null float64\n",
      "CurrentDelinquencies                   113240 non-null float64\n",
      "AmountDelinquent                       106315 non-null float64\n",
      "DelinquenciesLast7Years                112947 non-null float64\n",
      "PublicRecordsLast10Years               113240 non-null float64\n",
      "PublicRecordsLast12Months              106333 non-null float64\n",
      "RevolvingCreditBalance                 106333 non-null float64\n",
      "BankcardUtilization                    106333 non-null float64\n",
      "AvailableBankcardCredit                106393 non-null float64\n",
      "TotalTrades                            106393 non-null float64\n",
      "TradesNeverDelinquent (percentage)     106393 non-null float64\n",
      "TradesOpenedLast6Months                106393 non-null float64\n",
      "DebtToIncomeRatio                      105383 non-null float64\n",
      "IncomeRange                            113937 non-null object\n",
      "IncomeVerifiable                       113937 non-null bool\n",
      "StatedMonthlyIncome                    113937 non-null float64\n",
      "LoanKey                                113937 non-null object\n",
      "TotalProsperLoans                      22085 non-null float64\n",
      "TotalProsperPaymentsBilled             22085 non-null float64\n",
      "OnTimeProsperPayments                  22085 non-null float64\n",
      "ProsperPaymentsLessThanOneMonthLate    22085 non-null float64\n",
      "ProsperPaymentsOneMonthPlusLate        22085 non-null float64\n",
      "ProsperPrincipalBorrowed               22085 non-null float64\n",
      "ProsperPrincipalOutstanding            22085 non-null float64\n",
      "ScorexChangeAtTimeOfListing            18928 non-null float64\n",
      "LoanCurrentDaysDelinquent              113937 non-null int64\n",
      "LoanFirstDefaultedCycleNumber          16952 non-null float64\n",
      "LoanMonthsSinceOrigination             113937 non-null int64\n",
      "LoanNumber                             113937 non-null int64\n",
      "LoanOriginalAmount                     113937 non-null int64\n",
      "LoanOriginationDate                    113937 non-null object\n",
      "LoanOriginationQuarter                 113937 non-null object\n",
      "MemberKey                              113937 non-null object\n",
      "MonthlyLoanPayment                     113937 non-null float64\n",
      "LP_CustomerPayments                    113937 non-null float64\n",
      "LP_CustomerPrincipalPayments           113937 non-null float64\n",
      "LP_InterestandFees                     113937 non-null float64\n",
      "LP_ServiceFees                         113937 non-null float64\n",
      "LP_CollectionFees                      113937 non-null float64\n",
      "LP_GrossPrincipalLoss                  113937 non-null float64\n",
      "LP_NetPrincipalLoss                    113937 non-null float64\n",
      "LP_NonPrincipalRecoverypayments        113937 non-null float64\n",
      "PercentFunded                          113937 non-null float64\n",
      "Recommendations                        113937 non-null int64\n",
      "InvestmentFromFriendsCount             113937 non-null int64\n",
      "InvestmentFromFriendsAmount            113937 non-null float64\n",
      "Investors                              113937 non-null int64\n",
      "dtypes: bool(3), float64(50), int64(11), object(17)\n",
      "memory usage: 68.1+ MB\n"
     ]
    }
   ],
   "source": [
    "df.info()"
   ]
  },
  {
   "cell_type": "code",
   "execution_count": 4,
   "metadata": {},
   "outputs": [
    {
     "name": "stdout",
     "output_type": "stream",
     "text": [
      "<class 'pandas.core.frame.DataFrame'>\n",
      "RangeIndex: 113937 entries, 0 to 113936\n",
      "Data columns (total 50 columns):\n",
      "CreditGrade                           28953 non-null object\n",
      "Term                                  113937 non-null int64\n",
      "LoanStatus                            113937 non-null object\n",
      "BorrowerAPR                           113912 non-null float64\n",
      "BorrowerRate                          113937 non-null float64\n",
      "LenderYield                           113937 non-null float64\n",
      "EstimatedEffectiveYield               84853 non-null float64\n",
      "EstimatedLoss                         84853 non-null float64\n",
      "EstimatedReturn                       84853 non-null float64\n",
      "ProsperRating (numeric)               84853 non-null float64\n",
      "ProsperRating (Alpha)                 84853 non-null object\n",
      "ProsperScore                          84853 non-null float64\n",
      "ListingCategory (numeric)             113937 non-null int64\n",
      "BorrowerState                         108422 non-null object\n",
      "Occupation                            110349 non-null object\n",
      "EmploymentStatus                      111682 non-null object\n",
      "EmploymentStatusDuration              106312 non-null float64\n",
      "IsBorrowerHomeowner                   113937 non-null bool\n",
      "CreditScoreRangeLower                 113346 non-null float64\n",
      "CreditScoreRangeUpper                 113346 non-null float64\n",
      "CurrentCreditLines                    106333 non-null float64\n",
      "OpenCreditLines                       106333 non-null float64\n",
      "TotalCreditLinespast7years            113240 non-null float64\n",
      "OpenRevolvingAccounts                 113937 non-null int64\n",
      "OpenRevolvingMonthlyPayment           113937 non-null float64\n",
      "InquiriesLast6Months                  113240 non-null float64\n",
      "TotalInquiries                        112778 non-null float64\n",
      "CurrentDelinquencies                  113240 non-null float64\n",
      "RevolvingCreditBalance                106333 non-null float64\n",
      "BankcardUtilization                   106333 non-null float64\n",
      "AvailableBankcardCredit               106393 non-null float64\n",
      "TotalTrades                           106393 non-null float64\n",
      "TradesNeverDelinquent (percentage)    106393 non-null float64\n",
      "TradesOpenedLast6Months               106393 non-null float64\n",
      "DebtToIncomeRatio                     105383 non-null float64\n",
      "IncomeRange                           113937 non-null object\n",
      "IncomeVerifiable                      113937 non-null bool\n",
      "StatedMonthlyIncome                   113937 non-null float64\n",
      "LoanMonthsSinceOrigination            113937 non-null int64\n",
      "LoanNumber                            113937 non-null int64\n",
      "LoanOriginalAmount                    113937 non-null int64\n",
      "LoanOriginationDate                   113937 non-null object\n",
      "LoanOriginationQuarter                113937 non-null object\n",
      "MemberKey                             113937 non-null object\n",
      "MonthlyLoanPayment                    113937 non-null float64\n",
      "PercentFunded                         113937 non-null float64\n",
      "Recommendations                       113937 non-null int64\n",
      "InvestmentFromFriendsCount            113937 non-null int64\n",
      "InvestmentFromFriendsAmount           113937 non-null float64\n",
      "Investors                             113937 non-null int64\n",
      "dtypes: bool(2), float64(29), int64(9), object(10)\n",
      "memory usage: 41.9+ MB\n"
     ]
    }
   ],
   "source": [
    "# copy another version to avoid mistake\n",
    "df1=df.copy()\n",
    "# drop columns to get necessary data\n",
    "df1.drop(['ListingKey', 'ListingNumber', 'ListingCreationDate', 'ClosedDate', 'CurrentlyInGroup',\n",
    "          'GroupKey', 'DateCreditPulled', 'FirstRecordedCreditLine', \n",
    "          'LoanKey', 'TotalProsperLoans', 'TotalProsperPaymentsBilled', \n",
    "          'OnTimeProsperPayments', 'ProsperPaymentsLessThanOneMonthLate',\n",
    "          'ProsperPaymentsOneMonthPlusLate', 'ProsperPrincipalBorrowed', \n",
    "          'ProsperPrincipalOutstanding', 'ScorexChangeAtTimeOfListing',\n",
    "          'LoanCurrentDaysDelinquent', 'LoanFirstDefaultedCycleNumber',\n",
    "          'AmountDelinquent','DelinquenciesLast7Years','PublicRecordsLast10Years',\n",
    "          'PublicRecordsLast12Months','LP_CustomerPayments','LP_CustomerPrincipalPayments',\n",
    "          'LP_InterestandFees', 'LP_ServiceFees','LP_CollectionFees','LP_GrossPrincipalLoss',\n",
    "          'LP_NetPrincipalLoss','LP_NonPrincipalRecoverypayments' ], axis=1, inplace = True)\n",
    "# show the important varible after remove columns\n",
    "df1.info()\n"
   ]
  },
  {
   "cell_type": "markdown",
   "metadata": {},
   "source": [
    "## I)Univariate Exploration\n",
    "\n",
    "> In this section, investigate distributions of individual variables. If\n",
    "you see unusual points or outliers, take a deeper look to clean things up\n",
    "and prepare yourself to look at relationships between variables."
   ]
  },
  {
   "cell_type": "markdown",
   "metadata": {},
   "source": [
    "## 1)What factor affect the loan status ?\n"
   ]
  },
  {
   "cell_type": "code",
   "execution_count": 5,
   "metadata": {
    "scrolled": true
   },
   "outputs": [
    {
     "data": {
      "text/plain": [
       "Current                   56576\n",
       "Completed                 38074\n",
       "Chargedoff                11992\n",
       "Defaulted                  5018\n",
       "Past Due (1-15 days)        806\n",
       "Past Due (31-60 days)       363\n",
       "Past Due (61-90 days)       313\n",
       "Past Due (91-120 days)      304\n",
       "Past Due (16-30 days)       265\n",
       "FinalPaymentInProgress      205\n",
       "Past Due (>120 days)         16\n",
       "Cancelled                     5\n",
       "Name: LoanStatus, dtype: int64"
      ]
     },
     "execution_count": 5,
     "metadata": {},
     "output_type": "execute_result"
    }
   ],
   "source": [
    "# count variable \n",
    "status_count=df1[\"LoanStatus\"].value_counts()\n",
    "status_count"
   ]
  },
  {
   "cell_type": "markdown",
   "metadata": {},
   "source": [
    "### Loan Status "
   ]
  },
  {
   "cell_type": "code",
   "execution_count": 6,
   "metadata": {
    "scrolled": false
   },
   "outputs": [
    {
     "data": {
      "text/plain": [
       "Text(0.5, 0, 'proportion of Loan Status')"
      ]
     },
     "execution_count": 6,
     "metadata": {},
     "output_type": "execute_result"
    },
    {
     "data": {
      "image/png": "[encoded data removed]",
      "text/plain": [
       "<Figure size 432x288 with 1 Axes>"
      ]
     },
     "metadata": {
      "needs_background": "light"
     },
     "output_type": "display_data"
    }
   ],
   "source": [
    "# get in order to rank \n",
    "status_order=df1[\"LoanStatus\"].value_counts().index\n",
    "status_order\n",
    "\n",
    "# get shape to caculate relative frequence\n",
    "n_status=df1[\"LoanStatus\"].shape[0]\n",
    "n_status\n",
    "\n",
    "max_status=status_count[0]\n",
    "max_status\n",
    "\n",
    "# get the proportion of each bar chart \n",
    "max_pro=max_status/n_status\n",
    "max_pro\n",
    "\n",
    "# get tick for bar chart\n",
    "tick_pro=np.arange(0,max_pro,0.05)\n",
    "\n",
    "# get tick name \n",
    "tick_names=['{:0.2f}'.format(v) for v in tick_pro]\n",
    "tick_names\n",
    "\n",
    "# draw bar chart \n",
    "base_color=sb.color_palette()[0]\n",
    "sb.countplot( data=df1,y=\"LoanStatus\",color=base_color,order=status_order)\n",
    "plt.xticks(tick_pro*n_status,tick_names)\n",
    "plt.xlabel('proportion of Loan Status')"
   ]
  },
  {
   "cell_type": "markdown",
   "metadata": {},
   "source": [
    "-**Choose 4 significant variables of income to plot which is `Current` , `Completed`,`Chargedoff`,`Defaulted` to plot bivate charts**"
   ]
  },
  {
   "cell_type": "markdown",
   "metadata": {},
   "source": [
    "Monthly income , monly payment , bank card credit"
   ]
  },
  {
   "cell_type": "markdown",
   "metadata": {},
   "source": [
    "### Occupation\n",
    "**Because the Occupation is large so I need to put the chart horizontal and scale down the y axis by log**"
   ]
  },
  {
   "cell_type": "code",
   "execution_count": 13,
   "metadata": {},
   "outputs": [
    {
     "data": {
      "text/plain": [
       "([<matplotlib.axis.XTick at 0x19ea9b0be48>,\n",
       "  <matplotlib.axis.XTick at 0x19eac7b5240>,\n",
       "  <matplotlib.axis.XTick at 0x19eac7b5ac8>],\n",
       " <a list of 3 Text xticklabel objects>)"
      ]
     },
     "execution_count": 13,
     "metadata": {},
     "output_type": "execute_result"
    },
    {
     "data": {
      "image/png": "[encoded data removed]",
      "text/plain": [
       "<Figure size 1440x1440 with 1 Axes>"
      ]
     },
     "metadata": {
      "needs_background": "light"
     },
     "output_type": "display_data"
    }
   ],
   "source": [
    "#set value for ticks\n",
    "Occupation_value=df1[\"Occupation\"].value_counts()\n",
    "ticks = [Occupation_value.min(),Occupation_value.max(), 3000]\n",
    "labels = ['{}'.format(val) for val in ticks]\n",
    "#increase the space for the plot\n",
    "plt.figure(figsize=(20,20))\n",
    "# set color \n",
    "base_color=sb.color_palette()[0]\n",
    "# plot bar\n",
    "g=sb.countplot(data=df1, y=\"Occupation\", color=base_color,order=Occupation_order)\n",
    "# set log scale to see all the range of occupation data \n",
    "g.set(xscale=\"log\")\n",
    "plt.xticks(ticks, labels)"
   ]
  },
  {
   "cell_type": "markdown",
   "metadata": {},
   "source": [
    "### Credit Grade"
   ]
  },
  {
   "cell_type": "code",
   "execution_count": null,
   "metadata": {},
   "outputs": [],
   "source": [
    "# get order for credit \n",
    "credit_order=df1[\"CreditGrade\"].value_counts().index\n",
    "#plot\n",
    "g=sb.countplot(data=df1, y=\"CreditGrade\", color=base_color,order=credit_order)"
   ]
  },
  {
   "cell_type": "markdown",
   "metadata": {},
   "source": [
    "**AA: high credit quality , A: acceptable safety , B: low safety , D : lowest safety , NC: not competed, there are alot customers have hight risk , need to becareful**"
   ]
  },
  {
   "cell_type": "markdown",
   "metadata": {},
   "source": [
    "### Discuss the distribution(s) of your variable(s) of interest. Were there any unusual points? Did you need to perform any transformations?\n",
    "\n",
    "> Your answer here!\n",
    "\n",
    "### Of the features you investigated, were there any unusual distributions? Did you perform any operations on the data to tidy, adjust, or change the form of the data? If so, why did you do this?\n",
    "\n",
    "> Your answer here!"
   ]
  },
  {
   "cell_type": "markdown",
   "metadata": {},
   "source": [
    "Many people are currently in loan "
   ]
  },
  {
   "cell_type": "markdown",
   "metadata": {},
   "source": [
    "## II)Bivariate Exploration\n",
    "> In this section, investigate relationships between pairs of variables in your\n",
    "data. Make sure the variables that you cover here have been introduced in some\n",
    "fashion in the previous section (univariate exploration)."
   ]
  },
  {
   "cell_type": "markdown",
   "metadata": {},
   "source": [
    "#### Factors usually effect Loan include income, employment history , debt you own , apply for loan recently ,collateral , investment , monthly loan payment  "
   ]
  },
  {
   "cell_type": "markdown",
   "metadata": {},
   "source": [
    "### Loan Status with Monthly payment "
   ]
  },
  {
   "cell_type": "code",
   "execution_count": null,
   "metadata": {
    "scrolled": false
   },
   "outputs": [],
   "source": [
    "# violin plot \n",
    "plt.figure(figsize=(20,20))\n",
    "base_color=sb.color_palette()[0]\n",
    "sb.boxplot(data=df,x=\"MonthlyLoanPayment\",y=\"LoanStatus\",color=base_color, order=status_order)\n",
    "plt.xticks(rotation=15)"
   ]
  },
  {
   "cell_type": "markdown",
   "metadata": {},
   "source": [
    "**Most of people in debt and people who past the dueday pay more often than others**"
   ]
  },
  {
   "cell_type": "markdown",
   "metadata": {},
   "source": [
    "### Investor and loan status "
   ]
  },
  {
   "cell_type": "code",
   "execution_count": null,
   "metadata": {
    "scrolled": true
   },
   "outputs": [],
   "source": [
    "# boxplot \n",
    "plt.figure(figsize=(15,15))\n",
    "base_color=sb.color_palette()[0]\n",
    "sb.boxplot(data=df,x=\"LoanStatus\",y=\"Investors\",color=base_color, order=status_order)\n",
    "plt.xticks(rotation=15)"
   ]
  },
  {
   "cell_type": "markdown",
   "metadata": {},
   "source": [
    "**Completed loan has the most investor and ouliers , while people who are in debt have the lowest invest, the other variables have realtive same mean of investors**"
   ]
  },
  {
   "cell_type": "markdown",
   "metadata": {},
   "source": [
    "### Income with Loan Status \n"
   ]
  },
  {
   "cell_type": "code",
   "execution_count": null,
   "metadata": {},
   "outputs": [],
   "source": [
    "# groupby to see counts of 2 catergorical variable\n",
    "income_status=df1.groupby([\"LoanStatus\",'IncomeRange']).size()\n",
    "# create table\n",
    "income_status=income_status.reset_index(name=\"count\")\n",
    "# make pivot table \n",
    "income_status.pivot(index=\"LoanStatus\",columns=\"IncomeRange\",values=\"count\")\n",
    "\n",
    "\n",
    "#plot\n",
    "plt.figure(figsize=(5,5))\n",
    "\n",
    "income_status_sub = df1.loc[df1['LoanStatus'].isin(['Current','Completed','Chargedoff','Defaulted'])]\n",
    "\n",
    "ax = sb.countplot(data=income_status_sub, x='LoanStatus', hue='IncomeRange')\n",
    "# legend top right\n",
    "ax.legend(loc=1, framealpha=1, title='IncomeRange') \n",
    "plt.xticks(rotation=15)"
   ]
  },
  {
   "cell_type": "markdown",
   "metadata": {},
   "source": [
    "**People who have high income range would around '25k- 49k' dollar rank the 1st in complete and charged off the debt, most of current loan is owned by the middle income '50k - 79k' dollar , and default group most of them doesn't show income, middle income people borrow alot **"
   ]
  },
  {
   "cell_type": "markdown",
   "metadata": {},
   "source": [
    "## 2)Difference between Loans depending on how large the OriginalLoan amount?  "
   ]
  },
  {
   "cell_type": "code",
   "execution_count": null,
   "metadata": {
    "scrolled": true
   },
   "outputs": [],
   "source": [
    "# boxplot \n",
    "plt.figure(figsize=(15,15))\n",
    "base_color=sb.color_palette()[0]\n",
    "sb.boxplot(data=df,x=\"LoanStatus\",y=\"LoanOriginalAmount\",color=base_color, order=status_order)\n",
    "plt.xticks(rotation=15)"
   ]
  },
  {
   "cell_type": "markdown",
   "metadata": {},
   "source": [
    "**people how are curently in debt have really huge amount of oringial Loan amount**"
   ]
  },
  {
   "cell_type": "markdown",
   "metadata": {},
   "source": [
    "## 3)What factors affect APR \n",
    ">APR la interestrate + origination fee adn docuemtnation fee, provide yearly rate"
   ]
  },
  {
   "cell_type": "markdown",
   "metadata": {},
   "source": [
    "### BorrowerAPR and Loan Status "
   ]
  },
  {
   "cell_type": "code",
   "execution_count": null,
   "metadata": {
    "scrolled": false
   },
   "outputs": [],
   "source": [
    "# plotting\n",
    "base_color = sb.color_palette()[0]\n",
    "sb.barplot(data = df1, x = 'BorrowerAPR', y = 'LoanStatus',\n",
    "               color = base_color, order =status_order, ci = 'sd')\n",
    "plt.xlabel(' BorrowerAPR (% a year)')\n"
   ]
  },
  {
   "cell_type": "markdown",
   "metadata": {},
   "source": [
    "**Charged off customers adn pastdue customers have the highest BorrowerAPR rate**"
   ]
  },
  {
   "cell_type": "markdown",
   "metadata": {},
   "source": [
    "### Borrower APR vs Occupation "
   ]
  },
  {
   "cell_type": "code",
   "execution_count": null,
   "metadata": {
    "scrolled": true
   },
   "outputs": [],
   "source": [
    "#put order by group \n",
    "ob_mean=df1.groupby([\"Occupation\"])[\"BorrowerAPR\"].mean()\n",
    "#create a table for group by mean of BorrowerAPR \n",
    "ob_mean=ob_mean.reset_index(name=\"Mean\")\n",
    "# sort value of Borrower's mean \n",
    "ob_mean=ob_mean.sort_values(by='Mean',ascending=False)\n",
    "ob_mean"
   ]
  },
  {
   "cell_type": "code",
   "execution_count": null,
   "metadata": {
    "scrolled": true
   },
   "outputs": [],
   "source": [
    "# plotting\n",
    "plt.figure(figsize=(15,15))\n",
    "base_color= sb.color_palette()[3]\n",
    "sb.barplot(data = df1, x = 'BorrowerAPR', y = 'Occupation', color=base_color)\n",
    "plt.xlabel(' BorrowerAPR (% a year)')"
   ]
  },
  {
   "cell_type": "markdown",
   "metadata": {},
   "source": [
    "### Talk about some of the relationships you observed in this part of the investigation. How did the feature(s) of interest vary with other features in the dataset?\n",
    "\n",
    "> Your answer here!\n",
    "\n",
    "### Did you observe any interesting relationships between the other features (not the main feature(s) of interest)?\n"
   ]
  },
  {
   "cell_type": "markdown",
   "metadata": {},
   "source": [
    "## Multivariate Exploration\n",
    "\n",
    "> Create plots of three or more variables to investigate your data even\n",
    "further. Make sure that your investigations are justified, and follow from\n",
    "your work in the previous sections."
   ]
  },
  {
   "cell_type": "markdown",
   "metadata": {},
   "source": [
    "To get a correlation we need to convert our categorical features to numerical ones."
   ]
  },
  {
   "cell_type": "code",
   "execution_count": null,
   "metadata": {},
   "outputs": [],
   "source": [
    "df1['LoanStatus'] =df['LoanStatus'].astype('category').cat.codes\n",
    "df1['ProsperRating (Alpha)'] =df['ProsperRating (Alpha)'].astype('category').cat.codes\n",
    "df1['BorrowerState'] =df['BorrowerState'].astype('category').cat.codes\n",
    "df1['Occupation'] =df['Occupation'].astype('category').cat.codes\n",
    "df1['IncomeRange'] =df['IncomeRange'].astype('category').cat.codes\n",
    "df1['LoanOriginationDate'] =df['LoanOriginationDate'].astype('category').cat.codes\n",
    "df1['LoanOriginationQuarter'] =df['LoanOriginationQuarter'].astype('category').cat.codes\n",
    "df1['MemberKey'] =df['MemberKey'].astype('category').cat.codes\n",
    "df1['EmploymentStatus'] =df['EmploymentStatus'].astype('category').cat.codes"
   ]
  },
  {
   "cell_type": "markdown",
   "metadata": {},
   "source": [
    "Now we can get the correlation between the 'BorrowerAPR' and all the other features."
   ]
  },
  {
   "cell_type": "code",
   "execution_count": null,
   "metadata": {
    "scrolled": true
   },
   "outputs": [],
   "source": [
    "heatmap=df1[df1.columns[1:]].corr()['BorrowerAPR'][:]"
   ]
  },
  {
   "cell_type": "code",
   "execution_count": null,
   "metadata": {},
   "outputs": [],
   "source": [
    "f, ax = plt.subplots(figsize=(15, 15))\n",
    "ax=sb.heatmap(heatmap.to_frame(),annot=True, annot_kws={'size':10},cmap=\"GnBu\")\n",
    "plt.show()"
   ]
  },
  {
   "cell_type": "markdown",
   "metadata": {},
   "source": [
    "**-There is as strong positve relationship amoung `BorrowerARP`: with `EstimateEffectiveYield`,`LenderYield`,`EstimateLoss`,`EstimateReturn`,`ProsperRating(Alpha)`**"
   ]
  },
  {
   "cell_type": "code",
   "execution_count": null,
   "metadata": {
    "scrolled": true
   },
   "outputs": [],
   "source": [
    "heatmap=df1[df1.columns[1:]].corr()['LoanStatus'][:]\n",
    "\n",
    "f, ax = plt.subplots(figsize=(15, 15))\n",
    "ax=sb.heatmap(heatmap.to_frame(),annot=True, annot_kws={'size':10},cmap=\"GnBu\")\n",
    "plt.show()"
   ]
  },
  {
   "cell_type": "markdown",
   "metadata": {},
   "source": [
    "### Occupation with Status and Creditgrade"
   ]
  },
  {
   "cell_type": "code",
   "execution_count": null,
   "metadata": {},
   "outputs": [],
   "source": []
  },
  {
   "cell_type": "markdown",
   "metadata": {},
   "source": [
    "### Talk about some of the relationships you observed in this part of the investigation. Were there features that strengthened each other in terms of looking at your feature(s) of interest?\n",
    "\n",
    "> It is clear to use correlation to check which variable related the most to analyse data first then look at the detail each variable\n",
    "\n",
    "### Were there any interesting or surprising interactions between features?\n",
    "\n",
    "> Your answer here!"
   ]
  },
  {
   "cell_type": "code",
   "execution_count": null,
   "metadata": {},
   "outputs": [],
   "source": [
    "import pandas_profiling\n",
    "pandas_profiling.ProfileReport(df)"
   ]
  },
  {
   "cell_type": "markdown",
   "metadata": {},
   "source": [
    "> At the end of your report, make sure that you export the notebook as an\n",
    "html file from the `File > Download as... > HTML` menu. Make sure you keep\n",
    "track of where the exported file goes, so you can put it in the same folder\n",
    "as this notebook for project submission. Also, make sure you remove all of\n",
    "the quote-formatted guide notes like this one before you finish your report!"
   ]
  }
 ],
 "metadata": {
  "kernelspec": {
   "display_name": "Python 3",
   "language": "python",
   "name": "python3"
  },
  "language_info": {
   "codemirror_mode": {
    "name": "ipython",
    "version": 3
   },
   "file_extension": ".py",
   "mimetype": "text/x-python",
   "name": "python",
   "nbconvert_exporter": "python",
   "pygments_lexer": "ipython3",
   "version": "3.7.3"
  }
 },
 "nbformat": 4,
 "nbformat_minor": 2
}
